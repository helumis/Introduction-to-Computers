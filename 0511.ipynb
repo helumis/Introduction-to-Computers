{
  "nbformat": 4,
  "nbformat_minor": 0,
  "metadata": {
    "colab": {
      "name": "0511.ipynb",
      "provenance": [],
      "authorship_tag": "ABX9TyNFwISwP9DsqSdhxeUc8HMr",
      "include_colab_link": true
    },
    "kernelspec": {
      "name": "python3",
      "display_name": "Python 3"
    },
    "language_info": {
      "name": "python"
    }
  },
  "cells": [
    {
      "cell_type": "markdown",
      "metadata": {
        "id": "view-in-github",
        "colab_type": "text"
      },
      "source": [
        "<a href=\"https://colab.research.google.com/github/helumis/Introduction-to-Computers/blob/main/0511.ipynb\" target=\"_parent\"><img src=\"https://colab.research.google.com/assets/colab-badge.svg\" alt=\"Open In Colab\"/></a>"
      ]
    },
    {
      "cell_type": "code",
      "execution_count": 3,
      "metadata": {
        "colab": {
          "base_uri": "https://localhost:8080/"
        },
        "id": "k9Sv55NYg4ru",
        "outputId": "fdc556d6-b95e-45ca-8bd1-feaeaeff72b5"
      },
      "outputs": [
        {
          "output_type": "stream",
          "name": "stdout",
          "text": [
            "請輸入體溫45\n",
            "體溫過高\n"
          ]
        }
      ],
      "source": [
        "t=float(input('請輸入體溫'))\n",
        "if t>=37.5 :\n",
        "    print('體溫過高')\n",
        "elif t>=37 and t<37.5 :\n",
        "    print('體溫略高')\n",
        "elif t>=34 and t<37 :\n",
        "    print('體溫正常')\n",
        "else :\n",
        "    ptint('體溫異常，請重測')"
      ]
    },
    {
      "cell_type": "code",
      "source": [
        "m= int(input('輸入金額'))\n",
        "if (m>=10000):\n",
        "    if (m>=100000):\n",
        "      print('八折',m*0.8,end= '元\\n')\n",
        "    elif (m>=50000):\n",
        "      print('八五折',m*0.85,end= '元\\n')\n",
        "    elif (m>=30000):\n",
        "      print('九折',m*0.9,end= '元\\n')\n",
        "    else :\n",
        "      print('九五折',m*0.95,end= '元\\n')\n",
        "else:\n",
        "  print('八折',m,end= '元\\n')"
      ],
      "metadata": {
        "colab": {
          "base_uri": "https://localhost:8080/"
        },
        "id": "aq8DbKpnld0-",
        "outputId": "8a199ad7-1184-4677-c5d8-399b76593f4e"
      },
      "execution_count": 4,
      "outputs": [
        {
          "output_type": "stream",
          "name": "stdout",
          "text": [
            "輸入金額32100\n",
            "九折 28890.0元\n"
          ]
        }
      ]
    },
    {
      "cell_type": "code",
      "source": [
        "s= int(input('輸入成績'))\n",
        "if s>=90 :\n",
        "    print('A')\n",
        "elif s>=80 and s<90 :\n",
        "    print('B')\n",
        "elif s>=70 and s<80 :\n",
        "    print('C')\n",
        "elif s>=60 and s<70 :\n",
        "    print('D')\n",
        "elif  s<60 :\n",
        "    print('E')\n",
        "else: \n",
        "  print('ERROR')\n",
        "s= int(input('輸入成績'))\n",
        "if s>=90 :\n",
        "    print('A')\n",
        "elif s>=80 and s<90 :\n",
        "    print('B')\n",
        "elif s>=70 and s<80 :\n",
        "    print('C')\n",
        "elif s>=60 and s<70 :\n",
        "    print('D')\n",
        "elif  s<60 :\n",
        "    print('E')\n",
        "else: \n",
        "  print('ERROR')\n",
        "s= int(input('輸入成績'))\n",
        "if s>=90 :\n",
        "    print('A')\n",
        "elif s>=80 and s<90 :\n",
        "    print('B')\n",
        "elif s>=70 and s<80 :\n",
        "    print('C')\n",
        "elif s>=60 and s<70 :\n",
        "    print('D')\n",
        "elif  s<60 :\n",
        "    print('E')\n",
        "else: \n",
        "  print('ERROR')"
      ],
      "metadata": {
        "colab": {
          "base_uri": "https://localhost:8080/"
        },
        "id": "GdvIswtzqWRo",
        "outputId": "ce7fc6d0-acc4-45fc-b8c0-2c3f895a9d60"
      },
      "execution_count": 6,
      "outputs": [
        {
          "output_type": "stream",
          "name": "stdout",
          "text": [
            "輸入成績90\n",
            "A\n",
            "輸入成績80\n",
            "B\n",
            "輸入成績50\n",
            "E\n"
          ]
        }
      ]
    },
    {
      "cell_type": "code",
      "source": [
        "m=int(input('月份'))\n",
        "if m == 3 or 4 or 5 :\n",
        "  print(m,end='月是春天')\n",
        "elif m == 6 or 7 or 8 :\n",
        "  print(m,end='月是夏天')\n",
        "elif m == 10 or 9 or 11 :\n",
        "  print(m,end='月是秋天')\n",
        "elif m == 1 or 12 or 2 :\n",
        "  print(m,end='月是冬天')\n",
        "else   :\n",
        "  print('月份不在範圍內!')"
      ],
      "metadata": {
        "colab": {
          "base_uri": "https://localhost:8080/"
        },
        "id": "tVHlrSmBsDGL",
        "outputId": "a67afb6f-d4ef-4d68-cf08-3f98ac3fef14"
      },
      "execution_count": 10,
      "outputs": [
        {
          "output_type": "stream",
          "name": "stdout",
          "text": [
            "月份4\n",
            "4月是春天"
          ]
        }
      ]
    },
    {
      "cell_type": "code",
      "source": [
        "i = int(input('今年收入淨額'))\n",
        "if i >= 2000000 :\n",
        "  print('付稅金額:',i*0.3,'元')\n",
        "elif i >= 1000000 and i< 2000000 :\n",
        "  print('付稅金額:',i*0.21,'元')\n",
        "elif i >= 600000 and i< 1000000 :\n",
        "  print('付稅金額:',i*0.13,'元')\n",
        "elif i >= 300000 and i< 600000 :\n",
        "  print('付稅金額:',i*0.06,'元')\n",
        "elif  i< 300000 :\n",
        "  print('付稅金額:',i*0,'元')\n",
        "else :\n",
        "    print('ERROR')\n",
        "i = int(input('今年收入淨額'))\n",
        "if i >= 2000000 :\n",
        "  print('付稅金額:',i*0.3,'元')\n",
        "elif i >= 1000000 and i< 2000000 :\n",
        "  print('付稅金額:',i*0.21,'元')\n",
        "elif i >= 600000 and i< 1000000 :\n",
        "  print('付稅金額:',i*0.13,'元')\n",
        "elif i >= 300000 and i< 600000 :\n",
        "  print('付稅金額:',i*0.06,'元')\n",
        "elif  i< 300000 :\n",
        "  print('付稅金額:',i*0,'元')\n",
        "else :\n",
        "   print('ERROR')\n"
      ],
      "metadata": {
        "colab": {
          "base_uri": "https://localhost:8080/"
        },
        "id": "xlBd-EL_tf6d",
        "outputId": "0575edc6-9867-4f08-b328-3a4d8ef8f8ef"
      },
      "execution_count": 15,
      "outputs": [
        {
          "output_type": "stream",
          "name": "stdout",
          "text": [
            "今年收入淨額0\n",
            "付稅金額: 0 元\n",
            "今年收入淨額2000000\n",
            "付稅金額: 600000.0 元\n"
          ]
        }
      ]
    }
  ]
}