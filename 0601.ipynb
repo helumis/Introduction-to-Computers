{
  "nbformat": 4,
  "nbformat_minor": 0,
  "metadata": {
    "colab": {
      "name": "0601.ipynb",
      "provenance": [],
      "collapsed_sections": [],
      "authorship_tag": "ABX9TyP9ydmf3Vv5VJ8UqaybSeVL",
      "include_colab_link": true
    },
    "kernelspec": {
      "name": "python3",
      "display_name": "Python 3"
    },
    "language_info": {
      "name": "python"
    }
  },
  "cells": [
    {
      "cell_type": "markdown",
      "metadata": {
        "id": "view-in-github",
        "colab_type": "text"
      },
      "source": [
        "<a href=\"https://colab.research.google.com/github/helumis/Introduction-to-Computers/blob/main/0601.ipynb\" target=\"_parent\"><img src=\"https://colab.research.google.com/assets/colab-badge.svg\" alt=\"Open In Colab\"/></a>"
      ]
    },
    {
      "cell_type": "code",
      "execution_count": null,
      "metadata": {
        "colab": {
          "base_uri": "https://localhost:8080/"
        },
        "id": "H22jWb3Lodej",
        "outputId": "9211577e-3abc-4cfb-f11d-6e1587a6d521"
      },
      "outputs": [
        {
          "output_type": "stream",
          "name": "stdout",
          "text": [
            "2*1= 2 2*2= 4 2*3= 6 2*4= 8 2*5=10 2*6=12 2*7=14 2*8=16 2*9=18  \n",
            "3*1= 3 3*2= 6 3*3= 9 3*4=12 3*5=15 3*6=18 3*7=21 3*8=24 3*9=27  \n",
            "4*1= 4 4*2= 8 4*3=12 4*4=16 4*5=20 4*6=24 4*7=28 4*8=32 4*9=36  \n",
            "5*1= 5 5*2=10 5*3=15 5*4=20 5*5=25 5*6=30 5*7=35 5*8=40 5*9=45  \n",
            "6*1= 6 6*2=12 6*3=18 6*4=24 6*5=30 6*6=36 6*7=42 6*8=48 6*9=54  \n",
            "7*1= 7 7*2=14 7*3=21 7*4=28 7*5=35 7*6=42 7*7=49 7*8=56 7*9=63  \n",
            "8*1= 8 8*2=16 8*3=24 8*4=32 8*5=40 8*6=48 8*7=56 8*8=64 8*9=72  \n",
            "9*1= 9 9*2=18 9*3=27 9*4=36 9*5=45 9*6=54 9*7=63 9*8=72 9*9=81  \n"
          ]
        }
      ],
      "source": [
        "for i in range(2,10):\n",
        "  for j in range(1,10):\n",
        "    p=i*j\n",
        "    print('%d*%d=%2d ' %(i,j,p),end='')\n",
        "  print(' ' )"
      ]
    },
    {
      "cell_type": "code",
      "source": [
        "a= int(input('請輸入A值'))\n",
        "b= int(input('請輸入B值'))\n",
        "m=a*b\n",
        "for i in range(1,m+1):\n",
        "  if(i%a==0 and i%b==0):\n",
        "    break\n",
        "print('%d 和%d 的最小公倍數= %d'%(a,b,i))\n",
        "\n"
      ],
      "metadata": {
        "colab": {
          "base_uri": "https://localhost:8080/"
        },
        "id": "2IBp7HPOqOXa",
        "outputId": "c1e618f7-297f-4aa2-f2c4-3f27b4278c4c"
      },
      "execution_count": null,
      "outputs": [
        {
          "output_type": "stream",
          "name": "stdout",
          "text": [
            "請輸入A值10\n",
            "請輸入B值20\n",
            "10 和20 的最小公倍數= 20\n"
          ]
        }
      ]
    },
    {
      "cell_type": "code",
      "source": [
        "n= int(input('請輸入正整數'))\n",
        "for i in range (1,n+1):\n",
        "  if i %5 ==0:\n",
        "    continue\n",
        "  print(i,end=' ')"
      ],
      "metadata": {
        "colab": {
          "base_uri": "https://localhost:8080/"
        },
        "id": "JnhVVB4urZG9",
        "outputId": "c2bcbf11-7c87-48a3-b930-61064abad949"
      },
      "execution_count": 34,
      "outputs": [
        {
          "output_type": "stream",
          "name": "stdout",
          "text": [
            "請輸入正整數23\n",
            "1 2 3 4 6 7 8 9 11 12 13 14 16 17 18 19 21 22 23 "
          ]
        }
      ]
    },
    {
      "cell_type": "code",
      "source": [
        "t=n=0\n",
        "while (n<10):\n",
        "  n+=1\n",
        "  t+=n\n",
        "print(t)"
      ],
      "metadata": {
        "colab": {
          "base_uri": "https://localhost:8080/"
        },
        "id": "Rd1musXkzoik",
        "outputId": "19d15164-238f-49b3-8c09-da7d8541a15f"
      },
      "execution_count": null,
      "outputs": [
        {
          "output_type": "stream",
          "name": "stdout",
          "text": [
            "55\n"
          ]
        }
      ]
    },
    {
      "cell_type": "code",
      "source": [
        "t=n=0\n",
        "while (n<=10) :\n",
        "  t+=n\n",
        "  n+=1\n",
        "print(t)"
      ],
      "metadata": {
        "colab": {
          "base_uri": "https://localhost:8080/"
        },
        "id": "K5YMsYAlw5A1",
        "outputId": "fcb19991-17f5-4dab-d099-0f82863c50d8"
      },
      "execution_count": null,
      "outputs": [
        {
          "output_type": "stream",
          "name": "stdout",
          "text": [
            "55\n"
          ]
        }
      ]
    },
    {
      "cell_type": "code",
      "source": [
        "t=n=0\n",
        "while n<=10 :\n",
        "  t+=n\n",
        "  n+=1\n",
        "print(t)"
      ],
      "metadata": {
        "colab": {
          "base_uri": "https://localhost:8080/"
        },
        "id": "-aOHe2f3uifk",
        "outputId": "1ecdbc97-87cd-4271-8bb2-0a4793437cae"
      },
      "execution_count": null,
      "outputs": [
        {
          "output_type": "stream",
          "name": "stdout",
          "text": [
            "55\n"
          ]
        }
      ]
    },
    {
      "cell_type": "code",
      "source": [
        "t=n=0\n",
        "while(n<=10):\n",
        "  t+=n\n",
        "print(t)"
      ],
      "metadata": {
        "colab": {
          "base_uri": "https://localhost:8080/",
          "height": 219
        },
        "id": "exwRfZ0-wZIU",
        "outputId": "642158e2-2c41-426c-a97d-9091b0de4d16"
      },
      "execution_count": null,
      "outputs": [
        {
          "output_type": "error",
          "ename": "KeyboardInterrupt",
          "evalue": "ignored",
          "traceback": [
            "\u001b[0;31m---------------------------------------------------------------------------\u001b[0m",
            "\u001b[0;31mKeyboardInterrupt\u001b[0m                         Traceback (most recent call last)",
            "\u001b[0;32m<ipython-input-16-fad39b8f93c2>\u001b[0m in \u001b[0;36m<module>\u001b[0;34m()\u001b[0m\n\u001b[1;32m      1\u001b[0m \u001b[0mt\u001b[0m\u001b[0;34m=\u001b[0m\u001b[0mn\u001b[0m\u001b[0;34m=\u001b[0m\u001b[0;36m0\u001b[0m\u001b[0;34m\u001b[0m\u001b[0;34m\u001b[0m\u001b[0m\n\u001b[1;32m      2\u001b[0m \u001b[0;32mwhile\u001b[0m\u001b[0;34m(\u001b[0m\u001b[0mn\u001b[0m\u001b[0;34m<=\u001b[0m\u001b[0;36m10\u001b[0m\u001b[0;34m)\u001b[0m\u001b[0;34m:\u001b[0m\u001b[0;34m\u001b[0m\u001b[0;34m\u001b[0m\u001b[0m\n\u001b[0;32m----> 3\u001b[0;31m   \u001b[0mt\u001b[0m\u001b[0;34m+=\u001b[0m\u001b[0mn\u001b[0m\u001b[0;34m\u001b[0m\u001b[0;34m\u001b[0m\u001b[0m\n\u001b[0m\u001b[1;32m      4\u001b[0m \u001b[0mprint\u001b[0m\u001b[0;34m(\u001b[0m\u001b[0mt\u001b[0m\u001b[0;34m)\u001b[0m\u001b[0;34m\u001b[0m\u001b[0;34m\u001b[0m\u001b[0m\n",
            "\u001b[0;31mKeyboardInterrupt\u001b[0m: "
          ]
        }
      ]
    },
    {
      "cell_type": "code",
      "source": [
        "t=i=1\n",
        "n=int(input('請輸入正整數'))\n",
        "while i<=n :\n",
        "  t*=i\n",
        "  i+=1\n",
        "print('%d!=%d'%(n,t))"
      ],
      "metadata": {
        "colab": {
          "base_uri": "https://localhost:8080/"
        },
        "id": "oJqal4zZw-m7",
        "outputId": "2bdd6d87-be4f-49fe-b1ab-ace66f17c200"
      },
      "execution_count": null,
      "outputs": [
        {
          "output_type": "stream",
          "name": "stdout",
          "text": [
            "請輸入正整數10\n",
            "10!=3628800\n"
          ]
        }
      ]
    },
    {
      "cell_type": "code",
      "source": [
        "s=k=0\n",
        "while k<=50 :\n",
        "  s+=k\n",
        "  k+=2\n",
        "t=0\n",
        "n=1\n",
        "while n<=50 :\n",
        "  t+=n\n",
        "  n+=2\n",
        "print('0~50的偶數和為%d'%(s))\n",
        "print('0~50的奇數和為%d'%(t))"
      ],
      "metadata": {
        "colab": {
          "base_uri": "https://localhost:8080/"
        },
        "id": "jqPtfLvHyFUh",
        "outputId": "73622423-fc07-446e-f523-c82cbaef8ce9"
      },
      "execution_count": null,
      "outputs": [
        {
          "output_type": "stream",
          "name": "stdout",
          "text": [
            "0~50的偶數和為650\n",
            "0~50的奇數和為625\n"
          ]
        }
      ]
    },
    {
      "cell_type": "code",
      "source": [
        "t=int(input('請輸入正整數:'))\n",
        "n=t\n",
        "while n<=t :\n",
        "  print(n*'*')\n",
        "  t+=n\n",
        "  n-=1\n",
        "  if n==0 :\n",
        "    break\n"
      ],
      "metadata": {
        "colab": {
          "base_uri": "https://localhost:8080/"
        },
        "id": "HwZ9bujd1dYB",
        "outputId": "f7f0fd7a-3f03-4571-bcad-5a3809b73065"
      },
      "execution_count": 13,
      "outputs": [
        {
          "output_type": "stream",
          "name": "stdout",
          "text": [
            "請輸入正整數7\n",
            "*******\n",
            "******\n",
            "*****\n",
            "****\n",
            "***\n",
            "**\n",
            "*\n"
          ]
        }
      ]
    },
    {
      "cell_type": "code",
      "source": [
        "sum=0\n",
        "for i in range(3, 101):\n",
        "  if i% 3==0 or i%7==0:\n",
        "    sum += i\n",
        "print('數值1~100中，所有是3或7倍數之總和=',sum)"
      ],
      "metadata": {
        "colab": {
          "base_uri": "https://localhost:8080/"
        },
        "id": "Sxk87nMgrH1y",
        "outputId": "79109c3e-b70c-4b83-f769-df9fb4219be9"
      },
      "execution_count": 25,
      "outputs": [
        {
          "output_type": "stream",
          "name": "stdout",
          "text": [
            "數值1~100中，所有是3或7倍數之總和= 2208\n"
          ]
        }
      ]
    },
    {
      "cell_type": "code",
      "source": [
        "m=n= int (input('請輸入正整數:'))\n",
        "for i in range (2,n+1):\n",
        "  if n%i !=0 :\n",
        "     break\n",
        "print(n,'的因數有',i,end=' ')\n",
        "\n",
        "for c in range(2,m):\n",
        "  if m % c == 0:\n",
        "   print(m,'不是質數')\n",
        "   break    \n",
        "  elif c == m-1:\n",
        "   print(m,'是質數')\n",
        "\n",
        "\n"
      ],
      "metadata": {
        "colab": {
          "base_uri": "https://localhost:8080/"
        },
        "id": "Gt7PSYl8spq_",
        "outputId": "794f9f4d-7012-42c0-f774-0ece1333b6df"
      },
      "execution_count": 54,
      "outputs": [
        {
          "output_type": "stream",
          "name": "stdout",
          "text": [
            "請輸入正整數:12\n",
            "12 的因數有 5 12 不是質數\n"
          ]
        }
      ]
    }
  ]
}